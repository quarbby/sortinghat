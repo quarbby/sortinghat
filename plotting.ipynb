{
 "cells": [
  {
   "cell_type": "code",
   "execution_count": 1,
   "id": "b3dd293e",
   "metadata": {},
   "outputs": [],
   "source": [
    "import pandas as pd\n",
    "import matplotlib.pyplot as plt\n",
    "import seaborn as sns"
   ]
  },
  {
   "cell_type": "code",
   "execution_count": 2,
   "id": "6e92588f",
   "metadata": {},
   "outputs": [
    {
     "data": {
      "text/html": [
       "<div>\n",
       "<style scoped>\n",
       "    .dataframe tbody tr th:only-of-type {\n",
       "        vertical-align: middle;\n",
       "    }\n",
       "\n",
       "    .dataframe tbody tr th {\n",
       "        vertical-align: top;\n",
       "    }\n",
       "\n",
       "    .dataframe thead th {\n",
       "        text-align: right;\n",
       "    }\n",
       "</style>\n",
       "<table border=\"1\" class=\"dataframe\">\n",
       "  <thead>\n",
       "    <tr style=\"text-align: right;\">\n",
       "      <th></th>\n",
       "      <th>username</th>\n",
       "      <th>userid</th>\n",
       "      <th>botornot</th>\n",
       "      <th>self_declared_bot</th>\n",
       "      <th>news_bot</th>\n",
       "      <th>bridging_bot</th>\n",
       "      <th>amplifier_bot</th>\n",
       "      <th>cyborg</th>\n",
       "      <th>content_generation_bot</th>\n",
       "      <th>announcer_bot</th>\n",
       "      <th>repeater_bot</th>\n",
       "    </tr>\n",
       "  </thead>\n",
       "  <tbody>\n",
       "    <tr>\n",
       "      <th>0</th>\n",
       "      <td>Sandra71005599</td>\n",
       "      <td>955685794433318912</td>\n",
       "      <td>True</td>\n",
       "      <td>False</td>\n",
       "      <td>False</td>\n",
       "      <td>False</td>\n",
       "      <td>True</td>\n",
       "      <td>False</td>\n",
       "      <td>True</td>\n",
       "      <td>False</td>\n",
       "      <td>False</td>\n",
       "    </tr>\n",
       "    <tr>\n",
       "      <th>1</th>\n",
       "      <td>elizabe68496530</td>\n",
       "      <td>1217316921823068161</td>\n",
       "      <td>True</td>\n",
       "      <td>False</td>\n",
       "      <td>False</td>\n",
       "      <td>False</td>\n",
       "      <td>True</td>\n",
       "      <td>False</td>\n",
       "      <td>True</td>\n",
       "      <td>False</td>\n",
       "      <td>False</td>\n",
       "    </tr>\n",
       "    <tr>\n",
       "      <th>2</th>\n",
       "      <td>Srikant19071997</td>\n",
       "      <td>934807373612380160</td>\n",
       "      <td>True</td>\n",
       "      <td>False</td>\n",
       "      <td>False</td>\n",
       "      <td>False</td>\n",
       "      <td>True</td>\n",
       "      <td>False</td>\n",
       "      <td>True</td>\n",
       "      <td>False</td>\n",
       "      <td>False</td>\n",
       "    </tr>\n",
       "    <tr>\n",
       "      <th>3</th>\n",
       "      <td>1JesusDisciple</td>\n",
       "      <td>1209075997934530561</td>\n",
       "      <td>True</td>\n",
       "      <td>False</td>\n",
       "      <td>False</td>\n",
       "      <td>False</td>\n",
       "      <td>False</td>\n",
       "      <td>False</td>\n",
       "      <td>False</td>\n",
       "      <td>False</td>\n",
       "      <td>False</td>\n",
       "    </tr>\n",
       "    <tr>\n",
       "      <th>4</th>\n",
       "      <td>kjwright369</td>\n",
       "      <td>940384473786601472</td>\n",
       "      <td>True</td>\n",
       "      <td>False</td>\n",
       "      <td>False</td>\n",
       "      <td>False</td>\n",
       "      <td>True</td>\n",
       "      <td>False</td>\n",
       "      <td>True</td>\n",
       "      <td>False</td>\n",
       "      <td>False</td>\n",
       "    </tr>\n",
       "  </tbody>\n",
       "</table>\n",
       "</div>"
      ],
      "text/plain": [
       "          username               userid  botornot  self_declared_bot  \\\n",
       "0   Sandra71005599   955685794433318912      True              False   \n",
       "1  elizabe68496530  1217316921823068161      True              False   \n",
       "2  Srikant19071997   934807373612380160      True              False   \n",
       "3   1JesusDisciple  1209075997934530561      True              False   \n",
       "4      kjwright369   940384473786601472      True              False   \n",
       "\n",
       "   news_bot  bridging_bot  amplifier_bot  cyborg  content_generation_bot  \\\n",
       "0     False         False           True   False                    True   \n",
       "1     False         False           True   False                    True   \n",
       "2     False         False           True   False                    True   \n",
       "3     False         False          False   False                   False   \n",
       "4     False         False           True   False                    True   \n",
       "\n",
       "   announcer_bot  repeater_bot  \n",
       "0          False         False  \n",
       "1          False         False  \n",
       "2          False         False  \n",
       "3          False         False  \n",
       "4          False         False  "
      ]
     },
     "execution_count": 2,
     "metadata": {},
     "output_type": "execute_result"
    }
   ],
   "source": [
    "filepath = './covid_2020_june_out/bot_sorter.csv'\n",
    "df = pd.read_csv(filepath)\n",
    "df.head()"
   ]
  },
  {
   "cell_type": "code",
   "execution_count": 3,
   "id": "f33e3d10",
   "metadata": {},
   "outputs": [],
   "source": [
    "df_filtered = df[['self_declared_bot', 'news_bot', 'bridging_bot', 'amplifier_bot', 'cyborg', 'content_generation_bot', 'announcer_bot', 'repeater_bot']]"
   ]
  },
  {
   "cell_type": "code",
   "execution_count": 6,
   "id": "d7da3d4d",
   "metadata": {},
   "outputs": [
    {
     "data": {
      "image/png": "[encoded data removed]",
      "text/plain": [
       "<Figure size 1080x432 with 1 Axes>"
      ]
     },
     "metadata": {
      "needs_background": "light"
     },
     "output_type": "display_data"
    }
   ],
   "source": [
    "proportions_dict = {}\n",
    "\n",
    "for column in df_filtered.columns:\n",
    "    value_counts = df_filtered[column].value_counts(normalize=True).sort_index()\n",
    "    proportions_dict[column] = value_counts\n",
    "    \n",
    "proportions_df = pd.DataFrame(proportions_dict)\n",
    "    \n",
    "plt.figure(figsize=(15,6))\n",
    "proportions_df.T.plot(kind='bar', stacked=True, colormap='viridis', ax=plt.gca())\n",
    "plt.title(\"Proportion of True/False across columns\")\n",
    "plt.xlabel(\"Column Name\")\n",
    "plt.ylabel(\"Proportion\")\n",
    "plt.xticks(rotation=45)\n",
    "plt.legend(title=\"Value\", labels=['False', 'True'], loc='upper right')\n",
    "plt.tight_layout()\n",
    "plt.show()"
   ]
  },
  {
   "cell_type": "code",
   "execution_count": null,
   "id": "9a0c19ea",
   "metadata": {},
   "outputs": [],
   "source": []
  }
 ],
 "metadata": {
  "kernelspec": {
   "display_name": "Python 3",
   "language": "python",
   "name": "python3"
  },
  "language_info": {
   "codemirror_mode": {
    "name": "ipython",
    "version": 3
   },
   "file_extension": ".py",
   "mimetype": "text/x-python",
   "name": "python",
   "nbconvert_exporter": "python",
   "pygments_lexer": "ipython3",
   "version": "3.6.2"
  }
 },
 "nbformat": 4,
 "nbformat_minor": 5
}
