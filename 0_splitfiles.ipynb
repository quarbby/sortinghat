{
 "cells": [
  {
   "cell_type": "code",
   "execution_count": 3,
   "id": "72f4b898",
   "metadata": {},
   "outputs": [],
   "source": [
    "import json\n",
    "import os\n",
    "from collections import defaultdict\n",
    "import multiprocessing"
   ]
  },
  {
   "cell_type": "code",
   "execution_count": null,
   "id": "d2a1e1b3",
   "metadata": {},
   "outputs": [],
   "source": []
  },
  {
   "cell_type": "code",
   "execution_count": null,
   "id": "fb08cd48",
   "metadata": {},
   "outputs": [],
   "source": [
    "def process_line(line, output_dir):\n",
    "    if line.strip():\n",
    "        data = json.loads(line)\n",
    "        userid = data['user']['id']\n",
    "        if userid is not None:\n",
    "            output_filename = os.path.join(output_dir, f\"{userid}.json\")\n",
    "            with open(output_filename, 'a') as output_file:\n",
    "                json.dump(data, output_file)\n",
    "                output_file.write('\\n')\n",
    "            output_file.close()\n",
    "\n",
    "def process_jsonl_directory(input_dir, output_dir):\n",
    "    # Create the output directory if it doesn't exist\n",
    "    if not os.path.exists(output_dir):\n",
    "        os.makedirs(output_dir)\n",
    "\n",
    "    input_files = [f for f in os.listdir(input_dir) if f.endswith(\".json\")]\n",
    "\n",
    "    for input_file in input_files:\n",
    "        input_file_path = os.path.join(input_dir, input_file)\n",
    "        with open(input_file_path, 'r') as file:\n",
    "            for line in file:\n",
    "                process_line(line, output_dir)\n",
    "\n",
    "input_directory = \"./covid_2020_july_in_full\" \n",
    "output_directory = \"./covid_2020_07_in_full_separated\"   \n",
    "process_jsonl_directory(input_directory, output_directory)"
   ]
  }
 ],
 "metadata": {
  "kernelspec": {
   "display_name": "Python 3",
   "language": "python",
   "name": "python3"
  },
  "language_info": {
   "codemirror_mode": {
    "name": "ipython",
    "version": 3
   },
   "file_extension": ".py",
   "mimetype": "text/x-python",
   "name": "python",
   "nbconvert_exporter": "python",
   "pygments_lexer": "ipython3",
   "version": "3.6.2"
  }
 },
 "nbformat": 4,
 "nbformat_minor": 5
}
