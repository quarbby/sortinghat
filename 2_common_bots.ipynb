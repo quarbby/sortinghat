{
 "cells": [
  {
   "cell_type": "code",
   "execution_count": 1,
   "metadata": {},
   "outputs": [],
   "source": [
    "import pandas as pd"
   ]
  },
  {
   "cell_type": "code",
   "execution_count": 2,
   "metadata": {},
   "outputs": [],
   "source": [
    "df_june = pd.read_csv(r'C:\\Users\\lynne\\Documents\\Bots\\BigBots\\code\\bot_sorter\\data_out\\bot_sorter_2020_06.csv')\n",
    "df_july = pd.read_csv(r'C:\\Users\\lynne\\Documents\\Bots\\BigBots\\code\\bot_sorter\\data_out\\bot_sorter_2020_07.csv')"
   ]
  },
  {
   "cell_type": "code",
   "execution_count": 4,
   "metadata": {},
   "outputs": [
    {
     "data": {
      "text/html": [
       "<div>\n",
       "<style scoped>\n",
       "    .dataframe tbody tr th:only-of-type {\n",
       "        vertical-align: middle;\n",
       "    }\n",
       "\n",
       "    .dataframe tbody tr th {\n",
       "        vertical-align: top;\n",
       "    }\n",
       "\n",
       "    .dataframe thead th {\n",
       "        text-align: right;\n",
       "    }\n",
       "</style>\n",
       "<table border=\"1\" class=\"dataframe\">\n",
       "  <thead>\n",
       "    <tr style=\"text-align: right;\">\n",
       "      <th></th>\n",
       "      <th>username</th>\n",
       "      <th>userid</th>\n",
       "      <th>num_posts</th>\n",
       "      <th>botornot</th>\n",
       "      <th>self_declared_bot</th>\n",
       "      <th>news_bot</th>\n",
       "      <th>bridging_bot</th>\n",
       "      <th>amplifier_bot</th>\n",
       "      <th>cyborg</th>\n",
       "      <th>content_generation_bot</th>\n",
       "      <th>announcer_bot</th>\n",
       "      <th>repeater_bot</th>\n",
       "    </tr>\n",
       "  </thead>\n",
       "  <tbody>\n",
       "    <tr>\n",
       "      <th>0</th>\n",
       "      <td>manarellidiego</td>\n",
       "      <td>2583443602</td>\n",
       "      <td>6</td>\n",
       "      <td>False</td>\n",
       "      <td>False</td>\n",
       "      <td>False</td>\n",
       "      <td>False</td>\n",
       "      <td>True</td>\n",
       "      <td>False</td>\n",
       "      <td>True</td>\n",
       "      <td>False</td>\n",
       "      <td>False</td>\n",
       "    </tr>\n",
       "    <tr>\n",
       "      <th>1</th>\n",
       "      <td>alfedani</td>\n",
       "      <td>443693840</td>\n",
       "      <td>1</td>\n",
       "      <td>True</td>\n",
       "      <td>False</td>\n",
       "      <td>False</td>\n",
       "      <td>False</td>\n",
       "      <td>True</td>\n",
       "      <td>False</td>\n",
       "      <td>False</td>\n",
       "      <td>False</td>\n",
       "      <td>False</td>\n",
       "    </tr>\n",
       "    <tr>\n",
       "      <th>2</th>\n",
       "      <td>Tearsforanswer</td>\n",
       "      <td>1262862818690334721</td>\n",
       "      <td>1</td>\n",
       "      <td>False</td>\n",
       "      <td>False</td>\n",
       "      <td>False</td>\n",
       "      <td>False</td>\n",
       "      <td>True</td>\n",
       "      <td>False</td>\n",
       "      <td>True</td>\n",
       "      <td>False</td>\n",
       "      <td>False</td>\n",
       "    </tr>\n",
       "    <tr>\n",
       "      <th>3</th>\n",
       "      <td>sbsk02</td>\n",
       "      <td>141027864</td>\n",
       "      <td>6</td>\n",
       "      <td>False</td>\n",
       "      <td>False</td>\n",
       "      <td>False</td>\n",
       "      <td>False</td>\n",
       "      <td>True</td>\n",
       "      <td>False</td>\n",
       "      <td>True</td>\n",
       "      <td>False</td>\n",
       "      <td>True</td>\n",
       "    </tr>\n",
       "    <tr>\n",
       "      <th>4</th>\n",
       "      <td>mekansaracoglu</td>\n",
       "      <td>1125385611387527169</td>\n",
       "      <td>2</td>\n",
       "      <td>True</td>\n",
       "      <td>False</td>\n",
       "      <td>False</td>\n",
       "      <td>False</td>\n",
       "      <td>True</td>\n",
       "      <td>False</td>\n",
       "      <td>True</td>\n",
       "      <td>False</td>\n",
       "      <td>True</td>\n",
       "    </tr>\n",
       "  </tbody>\n",
       "</table>\n",
       "</div>"
      ],
      "text/plain": [
       "         username               userid  num_posts  botornot  \\\n",
       "0  manarellidiego           2583443602          6     False   \n",
       "1        alfedani            443693840          1      True   \n",
       "2  Tearsforanswer  1262862818690334721          1     False   \n",
       "3          sbsk02            141027864          6     False   \n",
       "4  mekansaracoglu  1125385611387527169          2      True   \n",
       "\n",
       "   self_declared_bot  news_bot  bridging_bot  amplifier_bot  cyborg  \\\n",
       "0              False     False         False           True   False   \n",
       "1              False     False         False           True   False   \n",
       "2              False     False         False           True   False   \n",
       "3              False     False         False           True   False   \n",
       "4              False     False         False           True   False   \n",
       "\n",
       "   content_generation_bot  announcer_bot  repeater_bot  \n",
       "0                    True          False         False  \n",
       "1                   False          False         False  \n",
       "2                    True          False         False  \n",
       "3                    True          False          True  \n",
       "4                    True          False          True  "
      ]
     },
     "execution_count": 4,
     "metadata": {},
     "output_type": "execute_result"
    }
   ],
   "source": [
    "df_june.head()"
   ]
  },
  {
   "cell_type": "code",
   "execution_count": 5,
   "metadata": {},
   "outputs": [],
   "source": [
    "df_june_bot = df_june[df_june['botornot'] == True]\n",
    "df_july_bot = df_july[df_july['botornot'] == True]\n",
    "\n",
    "df_june_bot_list = set(df_june_bot['userid'].tolist())\n",
    "df_july_bot_list = set(df_july_bot['userid'].tolist())"
   ]
  },
  {
   "cell_type": "code",
   "execution_count": 8,
   "metadata": {},
   "outputs": [
    {
     "data": {
      "text/plain": [
       "2663"
      ]
     },
     "execution_count": 8,
     "metadata": {},
     "output_type": "execute_result"
    }
   ],
   "source": [
    "len(df_june_bot_list.intersection(df_july_bot_list))"
   ]
  }
 ],
 "metadata": {
  "kernelspec": {
   "display_name": "Python 3",
   "language": "python",
   "name": "python3"
  },
  "language_info": {
   "codemirror_mode": {
    "name": "ipython",
    "version": 3
   },
   "file_extension": ".py",
   "mimetype": "text/x-python",
   "name": "python",
   "nbconvert_exporter": "python",
   "pygments_lexer": "ipython3",
   "version": "3.8.5"
  }
 },
 "nbformat": 4,
 "nbformat_minor": 4
}
